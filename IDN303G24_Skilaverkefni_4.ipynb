{
  "cells": [
    {
      "cell_type": "markdown",
      "id": "6e9351db",
      "metadata": {
        "id": "6e9351db"
      },
      "source": [
        "# IÐN303G Tæknileg kerfi - Skilaverkefni 4"
      ]
    },
    {
      "cell_type": "code",
      "source": [],
      "metadata": {
        "id": "VsQFf3MakDSL"
      },
      "id": "VsQFf3MakDSL",
      "execution_count": null,
      "outputs": []
    },
    {
      "cell_type": "markdown",
      "id": "fa1d8b99",
      "metadata": {
        "id": "fa1d8b99"
      },
      "source": [
        "Markmiðið er að hanna einfalda P stýringu til að stýra hæð í vatnstanki í tilraunaaðstöðu í VR-III og prófa hversu vel hún virkar í raun. Við viljum að hæðin fylgi óskgildinu þrátt fyrir þrepabreytingar í útflæði. Auk þess viljum að kerfið nái óskgildinu sem fyrst eftir að truflun hefur átt sér stað en að yfirskot sé ekki meira en 10%.\n",
        "\n",
        "Í upphafi er innflæði jafnt og útflæði og vatnshæðin í jafnvægi (jafnvægispunktur). Vatnshæð er mæld með nema og stýring (í tölvu) bregst við breytingum með að þrengja eða víkka loka og breyta þar með innflæðinu. Þrenging lokans er mæld í gráðum (°).\n",
        "\n",
        "Á Mynd 1 má sjá blokkrit fyrir kerfið. $R(s)$ er óskgildi vatnshæðarinnar, $E(s)$ er mismunur á óskgildi og mældu gildi, $U(s)$ er opnun lokans, $Q_{inn}(s)$ er innflæði, $Q_{út}(s)$ er útflæði og $H(s)$ er vatnshæðin. Athugið að í öllum tilfellum er um að ræða breytingar frá jafnvægispunkti.\n",
        "\n",
        "<div>\n",
        "<img src=\"https://github.com/rsaemundsson/idn_303_TS_24/blob/main/s4_blokkrit.png?raw=true\" alt=\"Mynd vantar\" width=600/>\n",
        "\n",
        "Mynd 1. Blokkrit af kerfi til að stýra vatnshæð í tanki.\n",
        "\n",
        "\n",
        "Yfirfærsluföll fyrir mismunandi einingar kerfisins eru eftirfarandi:\n",
        "\n",
        "<center>$G_{Stýring}(s)=K_P$</center>\n",
        "<br>\n",
        "<center>$G_{Loki} (s)=\\frac{K_L}{\\tau_L s + 1}$</center>\n",
        "<br>\n",
        "<center>$G_{Tankur}(s)=\\frac{K_T}{\\tau_Ts + 1}$</center>\n",
        "<br>\n",
        "<center>$G_{Nemi}(s)=1$</center>\n",
        "\n",
        "Við útreikninga má gera ráð fyrir að $K_L = 2,67x10^{-6} m^3/s°$, $\\tau_L = 1$s, $K_T=2800$ og $\\tau_T=250s$.\n",
        "\n",
        "Kerfið þarf að vera stöðugt og lokinn ræður ekki við stærri breytingar en 10° (stýrimerki). Við hönnun stýringarinnar er hægt að miða við að útflæði lækki um 1 l/mín. Ekki er víst að nákvæmlega sömu gildin séu notuð við prófanir. Athugið líka að stuðlar kerfisins eru í SI einingum en mögulega eru aðrar einingar notaðar við prófanir.\n",
        "\n",
        "Athugið að þetta er ekki nákvæmlega sama vandamál og í Skilaverkefni 3 og stuðlar eru ekki allir þeir sömu.\n",
        "\n",
        "1. Veljið $K_P$ þannig að hönnunarmarkmið náist sem best, þ.m.t. að stýrimerki sé innan marka.\n",
        "2. Prófið stýringuna með völdu gildi á $K_P$ í tilraunaaðstöðu í VR-III (vinnulýsing á staðnum). Endurbætið stýringuna með því að velja nýtt gildi eftir að hafa fylgst með árangri stýringarinnar með valda gildinu ykkar.\n",
        "3. Berið svörun líkana (fyrir valið og endurbætt gildi) við mælingar, bæði myndrænt og tölulega. Túlkið og dragið ályktanir um gæði líkans og val ykkar á $K_P$.\n",
        "4. Setjið fram niðurstöður í Colab skjali (eða jupiter notebook) þar sem þið blandið saman texta, jöfnum og kóða. Skjalið skal hafa eftirfarandi hluta:\n",
        "<ul>\n",
        "<li>Inngangur - þar sem þið lýsið markmiðum verkefnisins og hönnunarkröfum.</li>\n",
        "<li>Fræðilegur bakgrunnur - líkan af kerfinu og eiginleikar P stýringa</li>\n",
        "<li>Aðferð - lýsing á því hvað þið gerðuð - hönnun, mælingar, samanburður.</li>\n",
        "<li>Niðurstöður</li>\n",
        "<ul>\n",
        "<li>Hönnun - val á stuðlum P stýringarinnar</li>\n",
        "<li>Samanburður á útreiknuðum og mældum gildum</li>\n",
        "</ul>\n",
        "<li>Ályktanir - gæði líkans og val ykkar á $K_P$.</li>\n",
        "</ul>"
      ]
    }
  ],
  "metadata": {
    "kernelspec": {
      "display_name": "Python 3 (ipykernel)",
      "language": "python",
      "name": "python3"
    },
    "language_info": {
      "codemirror_mode": {
        "name": "ipython",
        "version": 3
      },
      "file_extension": ".py",
      "mimetype": "text/x-python",
      "name": "python",
      "nbconvert_exporter": "python",
      "pygments_lexer": "ipython3",
      "version": "3.9.7"
    },
    "colab": {
      "provenance": []
    }
  },
  "nbformat": 4,
  "nbformat_minor": 5
}